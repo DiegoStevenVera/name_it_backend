{
  "nbformat": 4,
  "nbformat_minor": 0,
  "metadata": {
    "colab": {
      "provenance": [],
      "authorship_tag": "ABX9TyO/p2WmILCyfgYbds/vuuIf",
      "include_colab_link": true
    },
    "kernelspec": {
      "name": "python3",
      "display_name": "Python 3"
    },
    "language_info": {
      "name": "python"
    }
  },
  "cells": [
    {
      "cell_type": "markdown",
      "metadata": {
        "id": "view-in-github",
        "colab_type": "text"
      },
      "source": [
        "<a href=\"https://colab.research.google.com/github/DiegoStevenVera/name_it_backend/blob/master/Name_It.ipynb\" target=\"_parent\"><img src=\"https://colab.research.google.com/assets/colab-badge.svg\" alt=\"Open In Colab\"/></a>"
      ]
    },
    {
      "cell_type": "code",
      "execution_count": null,
      "metadata": {
        "id": "CYtniTjhg2O1"
      },
      "outputs": [],
      "source": [
        "from torchvision import models\n",
        "from torchsummary import summary\n",
        "from torchvision import transforms\n",
        "from PIL import Image\n",
        "\n",
        "import torch"
      ]
    },
    {
      "cell_type": "code",
      "source": [
        "resnet = models.resnet101(weights=models.ResNet101_Weights.DEFAULT)\n",
        "resnet.eval()"
      ],
      "metadata": {
        "colab": {
          "base_uri": "https://localhost:8080/"
        },
        "id": "-zy3m-QXhmIl",
        "outputId": "272749ee-1cb2-4e4f-f2ff-f4fb95e4ee51"
      },
      "execution_count": null,
      "outputs": [
        {
          "output_type": "execute_result",
          "data": {
            "text/plain": [
              "ResNet(\n",
              "  (conv1): Conv2d(3, 64, kernel_size=(7, 7), stride=(2, 2), padding=(3, 3), bias=False)\n",
              "  (bn1): BatchNorm2d(64, eps=1e-05, momentum=0.1, affine=True, track_running_stats=True)\n",
              "  (relu): ReLU(inplace=True)\n",
              "  (maxpool): MaxPool2d(kernel_size=3, stride=2, padding=1, dilation=1, ceil_mode=False)\n",
              "  (layer1): Sequential(\n",
              "    (0): Bottleneck(\n",
              "      (conv1): Conv2d(64, 64, kernel_size=(1, 1), stride=(1, 1), bias=False)\n",
              "      (bn1): BatchNorm2d(64, eps=1e-05, momentum=0.1, affine=True, track_running_stats=True)\n",
              "      (conv2): Conv2d(64, 64, kernel_size=(3, 3), stride=(1, 1), padding=(1, 1), bias=False)\n",
              "      (bn2): BatchNorm2d(64, eps=1e-05, momentum=0.1, affine=True, track_running_stats=True)\n",
              "      (conv3): Conv2d(64, 256, kernel_size=(1, 1), stride=(1, 1), bias=False)\n",
              "      (bn3): BatchNorm2d(256, eps=1e-05, momentum=0.1, affine=True, track_running_stats=True)\n",
              "      (relu): ReLU(inplace=True)\n",
              "      (downsample): Sequential(\n",
              "        (0): Conv2d(64, 256, kernel_size=(1, 1), stride=(1, 1), bias=False)\n",
              "        (1): BatchNorm2d(256, eps=1e-05, momentum=0.1, affine=True, track_running_stats=True)\n",
              "      )\n",
              "    )\n",
              "    (1): Bottleneck(\n",
              "      (conv1): Conv2d(256, 64, kernel_size=(1, 1), stride=(1, 1), bias=False)\n",
              "      (bn1): BatchNorm2d(64, eps=1e-05, momentum=0.1, affine=True, track_running_stats=True)\n",
              "      (conv2): Conv2d(64, 64, kernel_size=(3, 3), stride=(1, 1), padding=(1, 1), bias=False)\n",
              "      (bn2): BatchNorm2d(64, eps=1e-05, momentum=0.1, affine=True, track_running_stats=True)\n",
              "      (conv3): Conv2d(64, 256, kernel_size=(1, 1), stride=(1, 1), bias=False)\n",
              "      (bn3): BatchNorm2d(256, eps=1e-05, momentum=0.1, affine=True, track_running_stats=True)\n",
              "      (relu): ReLU(inplace=True)\n",
              "    )\n",
              "    (2): Bottleneck(\n",
              "      (conv1): Conv2d(256, 64, kernel_size=(1, 1), stride=(1, 1), bias=False)\n",
              "      (bn1): BatchNorm2d(64, eps=1e-05, momentum=0.1, affine=True, track_running_stats=True)\n",
              "      (conv2): Conv2d(64, 64, kernel_size=(3, 3), stride=(1, 1), padding=(1, 1), bias=False)\n",
              "      (bn2): BatchNorm2d(64, eps=1e-05, momentum=0.1, affine=True, track_running_stats=True)\n",
              "      (conv3): Conv2d(64, 256, kernel_size=(1, 1), stride=(1, 1), bias=False)\n",
              "      (bn3): BatchNorm2d(256, eps=1e-05, momentum=0.1, affine=True, track_running_stats=True)\n",
              "      (relu): ReLU(inplace=True)\n",
              "    )\n",
              "  )\n",
              "  (layer2): Sequential(\n",
              "    (0): Bottleneck(\n",
              "      (conv1): Conv2d(256, 128, kernel_size=(1, 1), stride=(1, 1), bias=False)\n",
              "      (bn1): BatchNorm2d(128, eps=1e-05, momentum=0.1, affine=True, track_running_stats=True)\n",
              "      (conv2): Conv2d(128, 128, kernel_size=(3, 3), stride=(2, 2), padding=(1, 1), bias=False)\n",
              "      (bn2): BatchNorm2d(128, eps=1e-05, momentum=0.1, affine=True, track_running_stats=True)\n",
              "      (conv3): Conv2d(128, 512, kernel_size=(1, 1), stride=(1, 1), bias=False)\n",
              "      (bn3): BatchNorm2d(512, eps=1e-05, momentum=0.1, affine=True, track_running_stats=True)\n",
              "      (relu): ReLU(inplace=True)\n",
              "      (downsample): Sequential(\n",
              "        (0): Conv2d(256, 512, kernel_size=(1, 1), stride=(2, 2), bias=False)\n",
              "        (1): BatchNorm2d(512, eps=1e-05, momentum=0.1, affine=True, track_running_stats=True)\n",
              "      )\n",
              "    )\n",
              "    (1): Bottleneck(\n",
              "      (conv1): Conv2d(512, 128, kernel_size=(1, 1), stride=(1, 1), bias=False)\n",
              "      (bn1): BatchNorm2d(128, eps=1e-05, momentum=0.1, affine=True, track_running_stats=True)\n",
              "      (conv2): Conv2d(128, 128, kernel_size=(3, 3), stride=(1, 1), padding=(1, 1), bias=False)\n",
              "      (bn2): BatchNorm2d(128, eps=1e-05, momentum=0.1, affine=True, track_running_stats=True)\n",
              "      (conv3): Conv2d(128, 512, kernel_size=(1, 1), stride=(1, 1), bias=False)\n",
              "      (bn3): BatchNorm2d(512, eps=1e-05, momentum=0.1, affine=True, track_running_stats=True)\n",
              "      (relu): ReLU(inplace=True)\n",
              "    )\n",
              "    (2): Bottleneck(\n",
              "      (conv1): Conv2d(512, 128, kernel_size=(1, 1), stride=(1, 1), bias=False)\n",
              "      (bn1): BatchNorm2d(128, eps=1e-05, momentum=0.1, affine=True, track_running_stats=True)\n",
              "      (conv2): Conv2d(128, 128, kernel_size=(3, 3), stride=(1, 1), padding=(1, 1), bias=False)\n",
              "      (bn2): BatchNorm2d(128, eps=1e-05, momentum=0.1, affine=True, track_running_stats=True)\n",
              "      (conv3): Conv2d(128, 512, kernel_size=(1, 1), stride=(1, 1), bias=False)\n",
              "      (bn3): BatchNorm2d(512, eps=1e-05, momentum=0.1, affine=True, track_running_stats=True)\n",
              "      (relu): ReLU(inplace=True)\n",
              "    )\n",
              "    (3): Bottleneck(\n",
              "      (conv1): Conv2d(512, 128, kernel_size=(1, 1), stride=(1, 1), bias=False)\n",
              "      (bn1): BatchNorm2d(128, eps=1e-05, momentum=0.1, affine=True, track_running_stats=True)\n",
              "      (conv2): Conv2d(128, 128, kernel_size=(3, 3), stride=(1, 1), padding=(1, 1), bias=False)\n",
              "      (bn2): BatchNorm2d(128, eps=1e-05, momentum=0.1, affine=True, track_running_stats=True)\n",
              "      (conv3): Conv2d(128, 512, kernel_size=(1, 1), stride=(1, 1), bias=False)\n",
              "      (bn3): BatchNorm2d(512, eps=1e-05, momentum=0.1, affine=True, track_running_stats=True)\n",
              "      (relu): ReLU(inplace=True)\n",
              "    )\n",
              "  )\n",
              "  (layer3): Sequential(\n",
              "    (0): Bottleneck(\n",
              "      (conv1): Conv2d(512, 256, kernel_size=(1, 1), stride=(1, 1), bias=False)\n",
              "      (bn1): BatchNorm2d(256, eps=1e-05, momentum=0.1, affine=True, track_running_stats=True)\n",
              "      (conv2): Conv2d(256, 256, kernel_size=(3, 3), stride=(2, 2), padding=(1, 1), bias=False)\n",
              "      (bn2): BatchNorm2d(256, eps=1e-05, momentum=0.1, affine=True, track_running_stats=True)\n",
              "      (conv3): Conv2d(256, 1024, kernel_size=(1, 1), stride=(1, 1), bias=False)\n",
              "      (bn3): BatchNorm2d(1024, eps=1e-05, momentum=0.1, affine=True, track_running_stats=True)\n",
              "      (relu): ReLU(inplace=True)\n",
              "      (downsample): Sequential(\n",
              "        (0): Conv2d(512, 1024, kernel_size=(1, 1), stride=(2, 2), bias=False)\n",
              "        (1): BatchNorm2d(1024, eps=1e-05, momentum=0.1, affine=True, track_running_stats=True)\n",
              "      )\n",
              "    )\n",
              "    (1): Bottleneck(\n",
              "      (conv1): Conv2d(1024, 256, kernel_size=(1, 1), stride=(1, 1), bias=False)\n",
              "      (bn1): BatchNorm2d(256, eps=1e-05, momentum=0.1, affine=True, track_running_stats=True)\n",
              "      (conv2): Conv2d(256, 256, kernel_size=(3, 3), stride=(1, 1), padding=(1, 1), bias=False)\n",
              "      (bn2): BatchNorm2d(256, eps=1e-05, momentum=0.1, affine=True, track_running_stats=True)\n",
              "      (conv3): Conv2d(256, 1024, kernel_size=(1, 1), stride=(1, 1), bias=False)\n",
              "      (bn3): BatchNorm2d(1024, eps=1e-05, momentum=0.1, affine=True, track_running_stats=True)\n",
              "      (relu): ReLU(inplace=True)\n",
              "    )\n",
              "    (2): Bottleneck(\n",
              "      (conv1): Conv2d(1024, 256, kernel_size=(1, 1), stride=(1, 1), bias=False)\n",
              "      (bn1): BatchNorm2d(256, eps=1e-05, momentum=0.1, affine=True, track_running_stats=True)\n",
              "      (conv2): Conv2d(256, 256, kernel_size=(3, 3), stride=(1, 1), padding=(1, 1), bias=False)\n",
              "      (bn2): BatchNorm2d(256, eps=1e-05, momentum=0.1, affine=True, track_running_stats=True)\n",
              "      (conv3): Conv2d(256, 1024, kernel_size=(1, 1), stride=(1, 1), bias=False)\n",
              "      (bn3): BatchNorm2d(1024, eps=1e-05, momentum=0.1, affine=True, track_running_stats=True)\n",
              "      (relu): ReLU(inplace=True)\n",
              "    )\n",
              "    (3): Bottleneck(\n",
              "      (conv1): Conv2d(1024, 256, kernel_size=(1, 1), stride=(1, 1), bias=False)\n",
              "      (bn1): BatchNorm2d(256, eps=1e-05, momentum=0.1, affine=True, track_running_stats=True)\n",
              "      (conv2): Conv2d(256, 256, kernel_size=(3, 3), stride=(1, 1), padding=(1, 1), bias=False)\n",
              "      (bn2): BatchNorm2d(256, eps=1e-05, momentum=0.1, affine=True, track_running_stats=True)\n",
              "      (conv3): Conv2d(256, 1024, kernel_size=(1, 1), stride=(1, 1), bias=False)\n",
              "      (bn3): BatchNorm2d(1024, eps=1e-05, momentum=0.1, affine=True, track_running_stats=True)\n",
              "      (relu): ReLU(inplace=True)\n",
              "    )\n",
              "    (4): Bottleneck(\n",
              "      (conv1): Conv2d(1024, 256, kernel_size=(1, 1), stride=(1, 1), bias=False)\n",
              "      (bn1): BatchNorm2d(256, eps=1e-05, momentum=0.1, affine=True, track_running_stats=True)\n",
              "      (conv2): Conv2d(256, 256, kernel_size=(3, 3), stride=(1, 1), padding=(1, 1), bias=False)\n",
              "      (bn2): BatchNorm2d(256, eps=1e-05, momentum=0.1, affine=True, track_running_stats=True)\n",
              "      (conv3): Conv2d(256, 1024, kernel_size=(1, 1), stride=(1, 1), bias=False)\n",
              "      (bn3): BatchNorm2d(1024, eps=1e-05, momentum=0.1, affine=True, track_running_stats=True)\n",
              "      (relu): ReLU(inplace=True)\n",
              "    )\n",
              "    (5): Bottleneck(\n",
              "      (conv1): Conv2d(1024, 256, kernel_size=(1, 1), stride=(1, 1), bias=False)\n",
              "      (bn1): BatchNorm2d(256, eps=1e-05, momentum=0.1, affine=True, track_running_stats=True)\n",
              "      (conv2): Conv2d(256, 256, kernel_size=(3, 3), stride=(1, 1), padding=(1, 1), bias=False)\n",
              "      (bn2): BatchNorm2d(256, eps=1e-05, momentum=0.1, affine=True, track_running_stats=True)\n",
              "      (conv3): Conv2d(256, 1024, kernel_size=(1, 1), stride=(1, 1), bias=False)\n",
              "      (bn3): BatchNorm2d(1024, eps=1e-05, momentum=0.1, affine=True, track_running_stats=True)\n",
              "      (relu): ReLU(inplace=True)\n",
              "    )\n",
              "    (6): Bottleneck(\n",
              "      (conv1): Conv2d(1024, 256, kernel_size=(1, 1), stride=(1, 1), bias=False)\n",
              "      (bn1): BatchNorm2d(256, eps=1e-05, momentum=0.1, affine=True, track_running_stats=True)\n",
              "      (conv2): Conv2d(256, 256, kernel_size=(3, 3), stride=(1, 1), padding=(1, 1), bias=False)\n",
              "      (bn2): BatchNorm2d(256, eps=1e-05, momentum=0.1, affine=True, track_running_stats=True)\n",
              "      (conv3): Conv2d(256, 1024, kernel_size=(1, 1), stride=(1, 1), bias=False)\n",
              "      (bn3): BatchNorm2d(1024, eps=1e-05, momentum=0.1, affine=True, track_running_stats=True)\n",
              "      (relu): ReLU(inplace=True)\n",
              "    )\n",
              "    (7): Bottleneck(\n",
              "      (conv1): Conv2d(1024, 256, kernel_size=(1, 1), stride=(1, 1), bias=False)\n",
              "      (bn1): BatchNorm2d(256, eps=1e-05, momentum=0.1, affine=True, track_running_stats=True)\n",
              "      (conv2): Conv2d(256, 256, kernel_size=(3, 3), stride=(1, 1), padding=(1, 1), bias=False)\n",
              "      (bn2): BatchNorm2d(256, eps=1e-05, momentum=0.1, affine=True, track_running_stats=True)\n",
              "      (conv3): Conv2d(256, 1024, kernel_size=(1, 1), stride=(1, 1), bias=False)\n",
              "      (bn3): BatchNorm2d(1024, eps=1e-05, momentum=0.1, affine=True, track_running_stats=True)\n",
              "      (relu): ReLU(inplace=True)\n",
              "    )\n",
              "    (8): Bottleneck(\n",
              "      (conv1): Conv2d(1024, 256, kernel_size=(1, 1), stride=(1, 1), bias=False)\n",
              "      (bn1): BatchNorm2d(256, eps=1e-05, momentum=0.1, affine=True, track_running_stats=True)\n",
              "      (conv2): Conv2d(256, 256, kernel_size=(3, 3), stride=(1, 1), padding=(1, 1), bias=False)\n",
              "      (bn2): BatchNorm2d(256, eps=1e-05, momentum=0.1, affine=True, track_running_stats=True)\n",
              "      (conv3): Conv2d(256, 1024, kernel_size=(1, 1), stride=(1, 1), bias=False)\n",
              "      (bn3): BatchNorm2d(1024, eps=1e-05, momentum=0.1, affine=True, track_running_stats=True)\n",
              "      (relu): ReLU(inplace=True)\n",
              "    )\n",
              "    (9): Bottleneck(\n",
              "      (conv1): Conv2d(1024, 256, kernel_size=(1, 1), stride=(1, 1), bias=False)\n",
              "      (bn1): BatchNorm2d(256, eps=1e-05, momentum=0.1, affine=True, track_running_stats=True)\n",
              "      (conv2): Conv2d(256, 256, kernel_size=(3, 3), stride=(1, 1), padding=(1, 1), bias=False)\n",
              "      (bn2): BatchNorm2d(256, eps=1e-05, momentum=0.1, affine=True, track_running_stats=True)\n",
              "      (conv3): Conv2d(256, 1024, kernel_size=(1, 1), stride=(1, 1), bias=False)\n",
              "      (bn3): BatchNorm2d(1024, eps=1e-05, momentum=0.1, affine=True, track_running_stats=True)\n",
              "      (relu): ReLU(inplace=True)\n",
              "    )\n",
              "    (10): Bottleneck(\n",
              "      (conv1): Conv2d(1024, 256, kernel_size=(1, 1), stride=(1, 1), bias=False)\n",
              "      (bn1): BatchNorm2d(256, eps=1e-05, momentum=0.1, affine=True, track_running_stats=True)\n",
              "      (conv2): Conv2d(256, 256, kernel_size=(3, 3), stride=(1, 1), padding=(1, 1), bias=False)\n",
              "      (bn2): BatchNorm2d(256, eps=1e-05, momentum=0.1, affine=True, track_running_stats=True)\n",
              "      (conv3): Conv2d(256, 1024, kernel_size=(1, 1), stride=(1, 1), bias=False)\n",
              "      (bn3): BatchNorm2d(1024, eps=1e-05, momentum=0.1, affine=True, track_running_stats=True)\n",
              "      (relu): ReLU(inplace=True)\n",
              "    )\n",
              "    (11): Bottleneck(\n",
              "      (conv1): Conv2d(1024, 256, kernel_size=(1, 1), stride=(1, 1), bias=False)\n",
              "      (bn1): BatchNorm2d(256, eps=1e-05, momentum=0.1, affine=True, track_running_stats=True)\n",
              "      (conv2): Conv2d(256, 256, kernel_size=(3, 3), stride=(1, 1), padding=(1, 1), bias=False)\n",
              "      (bn2): BatchNorm2d(256, eps=1e-05, momentum=0.1, affine=True, track_running_stats=True)\n",
              "      (conv3): Conv2d(256, 1024, kernel_size=(1, 1), stride=(1, 1), bias=False)\n",
              "      (bn3): BatchNorm2d(1024, eps=1e-05, momentum=0.1, affine=True, track_running_stats=True)\n",
              "      (relu): ReLU(inplace=True)\n",
              "    )\n",
              "    (12): Bottleneck(\n",
              "      (conv1): Conv2d(1024, 256, kernel_size=(1, 1), stride=(1, 1), bias=False)\n",
              "      (bn1): BatchNorm2d(256, eps=1e-05, momentum=0.1, affine=True, track_running_stats=True)\n",
              "      (conv2): Conv2d(256, 256, kernel_size=(3, 3), stride=(1, 1), padding=(1, 1), bias=False)\n",
              "      (bn2): BatchNorm2d(256, eps=1e-05, momentum=0.1, affine=True, track_running_stats=True)\n",
              "      (conv3): Conv2d(256, 1024, kernel_size=(1, 1), stride=(1, 1), bias=False)\n",
              "      (bn3): BatchNorm2d(1024, eps=1e-05, momentum=0.1, affine=True, track_running_stats=True)\n",
              "      (relu): ReLU(inplace=True)\n",
              "    )\n",
              "    (13): Bottleneck(\n",
              "      (conv1): Conv2d(1024, 256, kernel_size=(1, 1), stride=(1, 1), bias=False)\n",
              "      (bn1): BatchNorm2d(256, eps=1e-05, momentum=0.1, affine=True, track_running_stats=True)\n",
              "      (conv2): Conv2d(256, 256, kernel_size=(3, 3), stride=(1, 1), padding=(1, 1), bias=False)\n",
              "      (bn2): BatchNorm2d(256, eps=1e-05, momentum=0.1, affine=True, track_running_stats=True)\n",
              "      (conv3): Conv2d(256, 1024, kernel_size=(1, 1), stride=(1, 1), bias=False)\n",
              "      (bn3): BatchNorm2d(1024, eps=1e-05, momentum=0.1, affine=True, track_running_stats=True)\n",
              "      (relu): ReLU(inplace=True)\n",
              "    )\n",
              "    (14): Bottleneck(\n",
              "      (conv1): Conv2d(1024, 256, kernel_size=(1, 1), stride=(1, 1), bias=False)\n",
              "      (bn1): BatchNorm2d(256, eps=1e-05, momentum=0.1, affine=True, track_running_stats=True)\n",
              "      (conv2): Conv2d(256, 256, kernel_size=(3, 3), stride=(1, 1), padding=(1, 1), bias=False)\n",
              "      (bn2): BatchNorm2d(256, eps=1e-05, momentum=0.1, affine=True, track_running_stats=True)\n",
              "      (conv3): Conv2d(256, 1024, kernel_size=(1, 1), stride=(1, 1), bias=False)\n",
              "      (bn3): BatchNorm2d(1024, eps=1e-05, momentum=0.1, affine=True, track_running_stats=True)\n",
              "      (relu): ReLU(inplace=True)\n",
              "    )\n",
              "    (15): Bottleneck(\n",
              "      (conv1): Conv2d(1024, 256, kernel_size=(1, 1), stride=(1, 1), bias=False)\n",
              "      (bn1): BatchNorm2d(256, eps=1e-05, momentum=0.1, affine=True, track_running_stats=True)\n",
              "      (conv2): Conv2d(256, 256, kernel_size=(3, 3), stride=(1, 1), padding=(1, 1), bias=False)\n",
              "      (bn2): BatchNorm2d(256, eps=1e-05, momentum=0.1, affine=True, track_running_stats=True)\n",
              "      (conv3): Conv2d(256, 1024, kernel_size=(1, 1), stride=(1, 1), bias=False)\n",
              "      (bn3): BatchNorm2d(1024, eps=1e-05, momentum=0.1, affine=True, track_running_stats=True)\n",
              "      (relu): ReLU(inplace=True)\n",
              "    )\n",
              "    (16): Bottleneck(\n",
              "      (conv1): Conv2d(1024, 256, kernel_size=(1, 1), stride=(1, 1), bias=False)\n",
              "      (bn1): BatchNorm2d(256, eps=1e-05, momentum=0.1, affine=True, track_running_stats=True)\n",
              "      (conv2): Conv2d(256, 256, kernel_size=(3, 3), stride=(1, 1), padding=(1, 1), bias=False)\n",
              "      (bn2): BatchNorm2d(256, eps=1e-05, momentum=0.1, affine=True, track_running_stats=True)\n",
              "      (conv3): Conv2d(256, 1024, kernel_size=(1, 1), stride=(1, 1), bias=False)\n",
              "      (bn3): BatchNorm2d(1024, eps=1e-05, momentum=0.1, affine=True, track_running_stats=True)\n",
              "      (relu): ReLU(inplace=True)\n",
              "    )\n",
              "    (17): Bottleneck(\n",
              "      (conv1): Conv2d(1024, 256, kernel_size=(1, 1), stride=(1, 1), bias=False)\n",
              "      (bn1): BatchNorm2d(256, eps=1e-05, momentum=0.1, affine=True, track_running_stats=True)\n",
              "      (conv2): Conv2d(256, 256, kernel_size=(3, 3), stride=(1, 1), padding=(1, 1), bias=False)\n",
              "      (bn2): BatchNorm2d(256, eps=1e-05, momentum=0.1, affine=True, track_running_stats=True)\n",
              "      (conv3): Conv2d(256, 1024, kernel_size=(1, 1), stride=(1, 1), bias=False)\n",
              "      (bn3): BatchNorm2d(1024, eps=1e-05, momentum=0.1, affine=True, track_running_stats=True)\n",
              "      (relu): ReLU(inplace=True)\n",
              "    )\n",
              "    (18): Bottleneck(\n",
              "      (conv1): Conv2d(1024, 256, kernel_size=(1, 1), stride=(1, 1), bias=False)\n",
              "      (bn1): BatchNorm2d(256, eps=1e-05, momentum=0.1, affine=True, track_running_stats=True)\n",
              "      (conv2): Conv2d(256, 256, kernel_size=(3, 3), stride=(1, 1), padding=(1, 1), bias=False)\n",
              "      (bn2): BatchNorm2d(256, eps=1e-05, momentum=0.1, affine=True, track_running_stats=True)\n",
              "      (conv3): Conv2d(256, 1024, kernel_size=(1, 1), stride=(1, 1), bias=False)\n",
              "      (bn3): BatchNorm2d(1024, eps=1e-05, momentum=0.1, affine=True, track_running_stats=True)\n",
              "      (relu): ReLU(inplace=True)\n",
              "    )\n",
              "    (19): Bottleneck(\n",
              "      (conv1): Conv2d(1024, 256, kernel_size=(1, 1), stride=(1, 1), bias=False)\n",
              "      (bn1): BatchNorm2d(256, eps=1e-05, momentum=0.1, affine=True, track_running_stats=True)\n",
              "      (conv2): Conv2d(256, 256, kernel_size=(3, 3), stride=(1, 1), padding=(1, 1), bias=False)\n",
              "      (bn2): BatchNorm2d(256, eps=1e-05, momentum=0.1, affine=True, track_running_stats=True)\n",
              "      (conv3): Conv2d(256, 1024, kernel_size=(1, 1), stride=(1, 1), bias=False)\n",
              "      (bn3): BatchNorm2d(1024, eps=1e-05, momentum=0.1, affine=True, track_running_stats=True)\n",
              "      (relu): ReLU(inplace=True)\n",
              "    )\n",
              "    (20): Bottleneck(\n",
              "      (conv1): Conv2d(1024, 256, kernel_size=(1, 1), stride=(1, 1), bias=False)\n",
              "      (bn1): BatchNorm2d(256, eps=1e-05, momentum=0.1, affine=True, track_running_stats=True)\n",
              "      (conv2): Conv2d(256, 256, kernel_size=(3, 3), stride=(1, 1), padding=(1, 1), bias=False)\n",
              "      (bn2): BatchNorm2d(256, eps=1e-05, momentum=0.1, affine=True, track_running_stats=True)\n",
              "      (conv3): Conv2d(256, 1024, kernel_size=(1, 1), stride=(1, 1), bias=False)\n",
              "      (bn3): BatchNorm2d(1024, eps=1e-05, momentum=0.1, affine=True, track_running_stats=True)\n",
              "      (relu): ReLU(inplace=True)\n",
              "    )\n",
              "    (21): Bottleneck(\n",
              "      (conv1): Conv2d(1024, 256, kernel_size=(1, 1), stride=(1, 1), bias=False)\n",
              "      (bn1): BatchNorm2d(256, eps=1e-05, momentum=0.1, affine=True, track_running_stats=True)\n",
              "      (conv2): Conv2d(256, 256, kernel_size=(3, 3), stride=(1, 1), padding=(1, 1), bias=False)\n",
              "      (bn2): BatchNorm2d(256, eps=1e-05, momentum=0.1, affine=True, track_running_stats=True)\n",
              "      (conv3): Conv2d(256, 1024, kernel_size=(1, 1), stride=(1, 1), bias=False)\n",
              "      (bn3): BatchNorm2d(1024, eps=1e-05, momentum=0.1, affine=True, track_running_stats=True)\n",
              "      (relu): ReLU(inplace=True)\n",
              "    )\n",
              "    (22): Bottleneck(\n",
              "      (conv1): Conv2d(1024, 256, kernel_size=(1, 1), stride=(1, 1), bias=False)\n",
              "      (bn1): BatchNorm2d(256, eps=1e-05, momentum=0.1, affine=True, track_running_stats=True)\n",
              "      (conv2): Conv2d(256, 256, kernel_size=(3, 3), stride=(1, 1), padding=(1, 1), bias=False)\n",
              "      (bn2): BatchNorm2d(256, eps=1e-05, momentum=0.1, affine=True, track_running_stats=True)\n",
              "      (conv3): Conv2d(256, 1024, kernel_size=(1, 1), stride=(1, 1), bias=False)\n",
              "      (bn3): BatchNorm2d(1024, eps=1e-05, momentum=0.1, affine=True, track_running_stats=True)\n",
              "      (relu): ReLU(inplace=True)\n",
              "    )\n",
              "  )\n",
              "  (layer4): Sequential(\n",
              "    (0): Bottleneck(\n",
              "      (conv1): Conv2d(1024, 512, kernel_size=(1, 1), stride=(1, 1), bias=False)\n",
              "      (bn1): BatchNorm2d(512, eps=1e-05, momentum=0.1, affine=True, track_running_stats=True)\n",
              "      (conv2): Conv2d(512, 512, kernel_size=(3, 3), stride=(2, 2), padding=(1, 1), bias=False)\n",
              "      (bn2): BatchNorm2d(512, eps=1e-05, momentum=0.1, affine=True, track_running_stats=True)\n",
              "      (conv3): Conv2d(512, 2048, kernel_size=(1, 1), stride=(1, 1), bias=False)\n",
              "      (bn3): BatchNorm2d(2048, eps=1e-05, momentum=0.1, affine=True, track_running_stats=True)\n",
              "      (relu): ReLU(inplace=True)\n",
              "      (downsample): Sequential(\n",
              "        (0): Conv2d(1024, 2048, kernel_size=(1, 1), stride=(2, 2), bias=False)\n",
              "        (1): BatchNorm2d(2048, eps=1e-05, momentum=0.1, affine=True, track_running_stats=True)\n",
              "      )\n",
              "    )\n",
              "    (1): Bottleneck(\n",
              "      (conv1): Conv2d(2048, 512, kernel_size=(1, 1), stride=(1, 1), bias=False)\n",
              "      (bn1): BatchNorm2d(512, eps=1e-05, momentum=0.1, affine=True, track_running_stats=True)\n",
              "      (conv2): Conv2d(512, 512, kernel_size=(3, 3), stride=(1, 1), padding=(1, 1), bias=False)\n",
              "      (bn2): BatchNorm2d(512, eps=1e-05, momentum=0.1, affine=True, track_running_stats=True)\n",
              "      (conv3): Conv2d(512, 2048, kernel_size=(1, 1), stride=(1, 1), bias=False)\n",
              "      (bn3): BatchNorm2d(2048, eps=1e-05, momentum=0.1, affine=True, track_running_stats=True)\n",
              "      (relu): ReLU(inplace=True)\n",
              "    )\n",
              "    (2): Bottleneck(\n",
              "      (conv1): Conv2d(2048, 512, kernel_size=(1, 1), stride=(1, 1), bias=False)\n",
              "      (bn1): BatchNorm2d(512, eps=1e-05, momentum=0.1, affine=True, track_running_stats=True)\n",
              "      (conv2): Conv2d(512, 512, kernel_size=(3, 3), stride=(1, 1), padding=(1, 1), bias=False)\n",
              "      (bn2): BatchNorm2d(512, eps=1e-05, momentum=0.1, affine=True, track_running_stats=True)\n",
              "      (conv3): Conv2d(512, 2048, kernel_size=(1, 1), stride=(1, 1), bias=False)\n",
              "      (bn3): BatchNorm2d(2048, eps=1e-05, momentum=0.1, affine=True, track_running_stats=True)\n",
              "      (relu): ReLU(inplace=True)\n",
              "    )\n",
              "  )\n",
              "  (avgpool): AdaptiveAvgPool2d(output_size=(1, 1))\n",
              "  (fc): Linear(in_features=2048, out_features=1000, bias=True)\n",
              ")"
            ]
          },
          "metadata": {},
          "execution_count": 51
        }
      ]
    },
    {
      "cell_type": "code",
      "source": [
        "img = Image.open(\"hourse.jpg\")\n",
        "with open('imagenet_classes.txt') as f:\n",
        "  labels = [line.strip() for line in f.readlines()]"
      ],
      "metadata": {
        "id": "6kgezY4Xle0q"
      },
      "execution_count": null,
      "outputs": []
    },
    {
      "cell_type": "code",
      "source": [
        "preprocess = transforms.Compose([\n",
        "  transforms.Resize(256),\n",
        "  transforms.CenterCrop(224),\n",
        "  transforms.ToTensor(),\n",
        "  transforms.Normalize(\n",
        "  mean=[0.485, 0.456, 0.406],\n",
        "  std=[0.229, 0.224, 0.225]\n",
        ")])"
      ],
      "metadata": {
        "id": "34PA5zQviMXd"
      },
      "execution_count": null,
      "outputs": []
    },
    {
      "cell_type": "code",
      "source": [
        "img_t = preprocess(img)\n",
        "batch_t = torch.unsqueeze(img_t, 0)\n",
        "batch_t.shape"
      ],
      "metadata": {
        "colab": {
          "base_uri": "https://localhost:8080/"
        },
        "id": "WyYHYeiJlFj2",
        "outputId": "2e66d16a-79a8-4713-e987-018cc6a79019"
      },
      "execution_count": null,
      "outputs": [
        {
          "output_type": "execute_result",
          "data": {
            "text/plain": [
              "torch.Size([1, 3, 224, 224])"
            ]
          },
          "metadata": {},
          "execution_count": 57
        }
      ]
    },
    {
      "cell_type": "code",
      "source": [
        "out = resnet(batch_t)\n",
        "out.shape"
      ],
      "metadata": {
        "colab": {
          "base_uri": "https://localhost:8080/"
        },
        "id": "-nuR7Bihl_LR",
        "outputId": "85ed8960-eeb7-4eac-bb28-e8acb7317d7c"
      },
      "execution_count": null,
      "outputs": [
        {
          "output_type": "execute_result",
          "data": {
            "text/plain": [
              "torch.Size([1, 1000])"
            ]
          },
          "metadata": {},
          "execution_count": 58
        }
      ]
    },
    {
      "cell_type": "code",
      "source": [
        "_, index = torch.max(out, 1)\n",
        "index"
      ],
      "metadata": {
        "colab": {
          "base_uri": "https://localhost:8080/"
        },
        "id": "aX1fNXpkmv3E",
        "outputId": "cecd4d9e-6049-4786-fe44-679deaacafde"
      },
      "execution_count": null,
      "outputs": [
        {
          "output_type": "execute_result",
          "data": {
            "text/plain": [
              "tensor([339])"
            ]
          },
          "metadata": {},
          "execution_count": 59
        }
      ]
    },
    {
      "cell_type": "code",
      "source": [
        "percentage = torch.nn.functional.softmax(out, dim=1)[0] * 100\n",
        "labels[index[0]], percentage[index[0]].item()"
      ],
      "metadata": {
        "colab": {
          "base_uri": "https://localhost:8080/"
        },
        "id": "vCfpPyqDo1GW",
        "outputId": "caab0de9-21a6-4004-8e16-0d4f581c71d7"
      },
      "execution_count": null,
      "outputs": [
        {
          "output_type": "execute_result",
          "data": {
            "text/plain": [
              "('sorrel', 76.73075866699219)"
            ]
          },
          "metadata": {},
          "execution_count": 60
        }
      ]
    },
    {
      "cell_type": "markdown",
      "source": [
        "# LSTM"
      ],
      "metadata": {
        "id": "tGPdh7EwPxB4"
      }
    },
    {
      "cell_type": "code",
      "source": [
        "import pandas as pd\n",
        "import numpy as np\n",
        "import tensorflow as tf\n",
        "import time\n",
        "from tensorflow.keras.models import Sequential\n",
        "from tensorflow.keras.layers import Dense\n",
        "from tensorflow.keras.layers import LSTM\n",
        "from tensorflow.keras.optimizers import RMSprop\n",
        "import numpy as np\n",
        "import random\n",
        "import os"
      ],
      "metadata": {
        "id": "Qi6Vg6lpVgHZ"
      },
      "execution_count": null,
      "outputs": []
    },
    {
      "cell_type": "code",
      "source": [
        "adj = [\"capaz\", \"superior\", \"absoluto\", \"aceptado\", \"preciso\", \"as\", \"activo\", \"real\", \"adaptado\", \"adaptando\", \"adecuado\", \"ajustado\", \"avanzado\", \"alerta\", \"vivo\", \"permitido\", \"permitiendo\", \"asombrado\", \"asombroso\", \"amplio\", \"divertido\", \"divertido\", \"aparente\", \"apto\", \"llegando\", \"artístico\", \"seguro\", \"asegurador\", \"esperado\", \"despierto\", \"consciente\", \"equilibrado\", \"llegando a ser\", \"amado\", \"mejor\", \"grande\", \"bendecido\", \"audaz\", \"jefe\", \"valiente\", \"breve\", \"brillante\", \"estallido\", \"ocupado\", \"calmado\", \"capaz\", \"capital\", \"cuidadoso\", \"cariñoso\", \"casual\", \"causal\", \"central\", \"cierto\", \"campeón\", \"encantado\", \"encantador\", \"alegre\", \"jefe\", \"elección\", \"civil\", \"clásico\", \"limpio\", \"claro\", \"inteligente\", \"escalada\", \"cerca\", \"cierre\", \"coherente\", \"cómico\", \"comunitario\", \"completo\", \"compuesto\", \"conciso\", \"concreto\", \"contenido\", \"cool\", \"correcto\", \"cósmico\", \"crack\", \"creativo\", \"creíble\", \"nítido\", \"crucial\", \"tierno\", \"astuto\", \"curioso\", \"actual\", \"lindo\", \"atrevido\", \"querido\", \"apuesto\", \"querido\", \"decente\", \"decisivo\", \"profundo\", \"definido\", \"d elicado\", \"deseado\", \"destinado\", \"dedicado\", \"directo\", \"discreto\", \"distinto\", \"diverso\", \"divino\", \"dominante\", \"impulsado\", \"impulsor\", \"dinámico\" , \"ansioso\", \"fácil\", \"eléctrico\", \"elegante\", \"emergente\", \"eminente\", \"habilitado\", \"habilitador\", \"sin fin\", \"comprometido\", \"atractivo\", \"mejorado\", \" disfrutado\", \"enorme\", \"bastante\", \"épico\", \"igual\", \"equipado\", \"eterno\", \"ético\", \"evidente\", \"evolucionado\", \"evolutivo\", \"exacto\", \"emocionado\" , \"emocionante\", \"exótico\", \"experto\", \"real\", \"justo\", \"fiel\", \"famoso\", \"elegante\", \"rápido\", \"factible\", \"bien\", \"más fino\", \" firme\", \"primero\", \"encajar\", \"adecuado\", \"flota\", \"flexible\", \"fluido\", \"fluido\", \"volador\", \"cariñoso\", \"franco\", \"libre\", \"fresco\" , \"completo\", \"divertido\", \"funky\", \"gracioso\", \"juego\", \"generoso\", \"suave\", \"genuino\", \"dar\", \"alegre\", \"glorioso\", \"brillante\", \" dorado\", \"bueno\", \"magnífico\", \"grandioso\", \"agradecido\", \"genial\", \"creciente\", \"crecido\", \"guiado\", \"guía\", \"práctico\", \"feliz\", \"resistente\" , \"inofensivo\", \"sano\", \"ayudado\", \"útil\", \"ayudando\", \"heroico\", \"cadera\", \"santo\", \"honesto\", \"esperanzado\", \"ho t\", \"enorme\", \"humano\", \"humilde\", \"humorístico\", \"ideal\", \"inmenso\", \"inmortal\", \"inmune\", \"mejorado\", \"en\", \"incluido\", \"infinito\" , \"informado\", \"inocente\", \"inspirado\", \"integral\", \"intenso\", \"intento\", \"interno\", \"íntimo\", \"invitador\", \"junto\", \"justo\", \"agudo\", \" clave\", \"amable\", \"conocedor\", \"conocido\", \"grande\", \"duradero\", \"principal\", \"aprendizaje\", \"legal\", \"legible\", \"indulgente\", \"liberal\", \"ligero\" , \"gustado\", \"alfabetizado\", \"vivo\", \"vivo\", \"lógico\", \"amado\", \"amoroso\", \"leal\", \"afortunado\", \"mágico\", \"magnético\", \"principal\", \" mayor\", \"muchos\", \"masivo\", \"maestro\", \"maduro\", \"máximo\", \"medido\", \"reunirse\", \"alegre\", \"poderoso\", \"menta\", \"modelo\", \"moderno\" , \"modesto\", \"moral\", \"más\", \"emocionado\", \"emocionado\", \"musical\", \"mutuo\", \"nacional\", \"nativo\", \"natural\", \"cercano\", \"pulcro\", \" necesario\", \"neutral\", \"nuevo\", \"siguiente\", \"agradable\", \"noble\", \"normal\", \"notable\", \"señalado\", \"novedoso\", \"atento\", \"en\", \"uno\" , \"abierto\", \"óptimo\", \"óptimo\", \"orgánico\", \"orientado\", \"extrovertido\", \"paciente\", \"pacífico\", \"perfecto\", \"mascota\", \"recogido\", \"agradable\", \" por favor d\", \"agradable\", \"poético\", \"pulido\", \"educado\", \"popular\", \"positivo\", \"posible\", \"poderoso\", \"precioso\", \"preciso\", \"premium\", \"preparado\" , \"presente\", \"bonita\", \"primaria\", \"principal\", \"pro\", \"probable\", \"profunda\", \"promovida\", \"rápida\", \"adecuada\", \"orgullosa\", \"probada\", \" bombeado\", \"puro\", \"calidad\", \"rápido\", \"silencioso\", \"rápido\", \"raro\", \"racional\", \"listo\", \"real\", \"refinado\", \"regular\", \"relacionado\" , \"relativo\", \"relajado\", \"relajante\", \"relevante\", \"aliviado\", \"renovado\", \"renovador\", \"resuelto\", \"descansado\", \"rico\", \"correcto\", \"robusto\", \" romántico\", \"gobernante\", \"sagrado\", \"seguro\", \"salvado\", \"salvador\", \"seguro\", \"seleccionado\", \"seleccionado\", \"sensato\", \"establecido\", \"establecido\", \"establecido\" , \"compartir\", \"afilado\", \"brillante\", \"simple\", \"sincero\", \"singular\", \"hábil\", \"inteligente\", \"sensacional\", \"sonriente\", \"suave\", \"social\", \" sólido\", \"buscado\", \"sonido\", \"especial\", \"espléndido\", \"cuadrado\", \"estable\", \"estrella\", \"estable\", \"sterling\", \"todavía\", \"agitado\", \"revolviendo\" , \"llamativo\", \"fuerte\", \"impresionante\", \"sutil\", \"adecuado\", \"adecuado\", \"resumen\", \"soleado\", \"súper\", \"soberbio\", \"supremo\", \"seguro\", \"arrollador\", \"dulce\", \"talentoso\", \"enseñante\", \"tierno\", \"agradecido\", \"minucioso\", \"ordenado\", \"apretado\", \"juntos\", \"tolerante\", \"top\", \"tópica\", \"tops\", \"tocado\", \"tocando\", \"duro\", \"verdadero\", \"de confianza\", \"confiado\", \"de confianza\", \"último\", \"imparcial\", \"poco común\", \"unificado\", \"único\", \"unido\", \"arriba\", \"vertical\", \"hacia arriba\", \"utilizable\", \"útil\", \"válido\", \"valorado\", \"vasto\", \"verificado\", \"viable\", \"vital\", \"vocal\", \"querido\", \"cálido\", \"rico\", \"bienvenido\", \"bienvenido\", \"bien\", \"todo\", \"dispuesto\", \"ganador\", \"cableado\", \"sabio\", \"ingenioso\", \"maravilloso\", \"viable\", \"trabajando\", \"digno\"]\n",
        "adv = [\"anormalmente\", \"absolutamente\", \"exactamente\", \"activamente\", \"en realidad\", \"adecuadamente\", \"admitidamente\", \"adversamente\", \"supuestamente\", \"sorprendentemente\", \"anualmente\", \"aparentemente\", \"posiblemente \", \"terriblemente\", \"mal\", \"apenas\", \"básicamente\", \"descaradamente\", \"a ciegas\", \"brevemente\", \"brillantemente\", \"en general\", \"cuidadosamente\", \"centralmente\", \"ciertamente\", \"barato\", \"limpiamente\", \"claramente\", \"cerca\", \"comúnmente\", \"completamente\", \"constantemente\", \"al revés\", \"correctamente\", \"curiosamente\", \"actualmente\", \"diariamente\", \"mortal \", \"profundamente\", \"definitivamente\", \"directamente\", \"claramente\", \"debidamente\", \"con entusiasmo\", \"temprano\", \"fácilmente\", \"eminentemente\", \"sin fin\", \"enormemente\", \"totalmente\", \"igualmente\", \"especialmente\", \"parcialmente\", \"evidentemente\", \"exactamente\", \"explícitamente\", \"externamente\", \"extremadamente\", \"fácticamente\", \"bastante\", \"finalmente\", \"firmemente\", \"primero \", \"a la fuerza\", \"formalmente\", \"anteriormente\", \"francamente\", \"libremente\", \"frecuentemente\", \"amistoso\", \"totalmente\", \"generalmente\", \"suavemente\", \"genuinamente\", \"horrible\", \"con mucho gusto\", \"globalmente\", \"gradualmente\", \"agradecido\", \"mucho\", \"groseramente\", \"felizmente\", \"apenas\", \"corazón\", \"muy\", \"horriblemente\", \"muy\", \"honestamente\", \"con suerte\", \"desesperadamente\", \"horriblemente\", \"enormemente\", \"humildemente\", \"idealmente\", \"ilegalmente\", \"inmensamente\" , \"implícitamente\", \"increíblemente\", \"indirectamente\", \"infinitamente\", \"informalmente\", \"inherentemente\", \"inicialmente\", \"instantáneamente\", \"intensamente\", \"internamente\", \"conjuntamente\", \"alegre\", \" amablemente\", \"en gran parte\", \"últimamente\", \"legalmente\", \"ligeramente\", \"probable\", \"literalmente\", \"animado\", \"localmente\", \"lógicamente\", \"holgadamente\", \"en voz alta\", \"encantador\" , \"afortunadamente\", \"principalmente\", \"manualmente\", \"marginalmente\", \"mentalmente\", \"meramente\", \"levemente\", \"miserablemente\", \"equivocadamente\", \"moderadamente\", \"mensualmente\", \"moralmente\", \" en su mayoría\", \"multiplicar\", \"mutuamente\", \"a saber\", \"nacionalmente\", \"naturalmente\", \"casi\", \"pulcramente\", \"innecesariamente\", \"nuevamente\", \"bien\", \"nominalmente\", \"normalmente\" , \"notablemente\", \"notablemente\", \"obviamente\", \"extrañamente\", \"oficialmente\", \"solo\", \"abiertamente\", \"opcionalmente\", \"demasiado\", \"dolorosamente\", \"parcialmente\", \"parcialmente\", \" perfectamente\", \"personalmente\", \"físicamente\", \"claramente\", \"agradablemente\", \"mal\", \"positivamente\", \"posiblemente\", \"precisamente\", \"preferiblemente\", \"actualmente\", \"presuntamente\", \"anteriormente\", \"principalmente\", \"en privado\", \"probablemente\", \"prontamente\", \"adecuadamente\", \"públicamente\", \"puramente\", \"rápidamente\", \"en silencio\" , \"radicalmente\", \"al azar\", \"rápidamente\", \"raramente\", \"racionalmente\", \"fácilmente\", \"realmente\", \"razonablemente\", \"recientemente\", \"regularmente\", \"fiablemente\", \"notablemente\", \" remotamente\", \"repetidamente\", \"correctamente\", \"aproximadamente\", \"rutinariamente\", \"tristemente\", \"seguramente\", \"apenas\", \"en segundo lugar\", \"en secreto\", \"aparentemente\", \"sensatamente\", \"por separado\" , \"seriamente\", \"severamente\", \"bruscamente\", \"brevemente\", \"similarmente\", \"simplemente\", \"sinceramente\", \"singularmente\", \"ligeramente\", \"lentamente\", \"suavemente\", \"socialmente\", \" únicamente\", \"especialmente\", \"constantemente\", \"extrañamente\", \"estrictamente\", \"fuertemente\", \"sutilmente\", \"de repente\", \"adecuadamente\", \"supuestamente\", \"seguramente\", \"finalmente\", \"terriblemente\" , \"afortunadamente\", \"completamente\", \"firmemente\", \"totalmente\", \"trivialmente\", \"verdaderamente\", \"típicamente\", \"en última instancia\", \"indebidamente\", \"uniformemente\", \"únicamente\", \"improbable\", \" urgentemente\", \"utilmente\", \"usualmente\", \"absolutamente\", \"vagamente\", \"enormemente\", \"verbalmente\", \"verticalmente\", \"vigorosamente\", \"violentamente\", \"virtualmente\", \"visualmente\", \"semanalmente\", \"totalmente\", \"ampliamente\", \"salvajemente\", \"voluntariamente\", \"incorrectamente\", \"anualmente\"]\n",
        "\n",
        "adj = [adi.strip() for adi in adj]\n",
        "adv = [adi.strip() for adi in adv]\n",
        "\n",
        "with open('imagenet_classes.txt') as f:\n",
        "  names = [line.strip() for line in f.readlines()]\n",
        "\n",
        "print(f\"Adj: {len(adj)} - Adv: {len(adv)} - Names: {len(names)}\")"
      ],
      "metadata": {
        "colab": {
          "base_uri": "https://localhost:8080/"
        },
        "id": "wX82XCltPzIy",
        "outputId": "bc4f29da-5a03-47b1-a842-78ff85c771e1"
      },
      "execution_count": null,
      "outputs": [
        {
          "output_type": "stream",
          "name": "stdout",
          "text": [
            "Adj: 449 - Adv: 261 - Names: 1000\n"
          ]
        }
      ]
    },
    {
      "cell_type": "markdown",
      "source": [
        "sujeto + advervio + adjetivo"
      ],
      "metadata": {
        "id": "MyT-qpKdWTac"
      }
    },
    {
      "cell_type": "code",
      "source": [
        "num_iters = 5 # cantidad de veces que cada nombre de animal se usará\n",
        "len_names = len(names)"
      ],
      "metadata": {
        "id": "d--W3-4B_1mm"
      },
      "execution_count": null,
      "outputs": []
    },
    {
      "cell_type": "code",
      "source": [
        "pet_names = np.zeros((num_iters*len_names, 4), dtype=object) #corpus\n",
        "\n",
        "for e in range(5):\n",
        "  for i, name in enumerate(names):\n",
        "    pet_names[i+(e*1000)][1] = name\n",
        "    pet_names[i+(e*1000)][2] = adv[np.random.randint(0,len(adv))]\n",
        "    pet_names[i+(e*1000)][3] = adj[np.random.randint(0,len(adj))]"
      ],
      "metadata": {
        "id": "Kf0TmZhnUj6X"
      },
      "execution_count": null,
      "outputs": []
    },
    {
      "cell_type": "code",
      "source": [
        "pet_names[:, 0] = ' '"
      ],
      "metadata": {
        "id": "d52eus8MAB3T"
      },
      "execution_count": null,
      "outputs": []
    },
    {
      "cell_type": "code",
      "source": [
        "pet_names.shape"
      ],
      "metadata": {
        "colab": {
          "base_uri": "https://localhost:8080/"
        },
        "id": "sl4216vDjgqB",
        "outputId": "c38c6755-8b1a-4087-868c-653d2bc63800"
      },
      "execution_count": null,
      "outputs": [
        {
          "output_type": "execute_result",
          "data": {
            "text/plain": [
              "(5000, 3)"
            ]
          },
          "metadata": {},
          "execution_count": 37
        }
      ]
    },
    {
      "cell_type": "code",
      "source": [
        "all_tokens = np.concatenate([names, np.unique(pet_names[:,2]), np.unique(pet_names[:,3]), [' ']])\n",
        "len_tokens = all_tokens.shape[0]\n",
        "ds_size = 2*num_iters*len_names"
      ],
      "metadata": {
        "id": "5Y0RX--wwsYZ"
      },
      "execution_count": null,
      "outputs": []
    },
    {
      "cell_type": "code",
      "source": [
        "X = np.zeros((ds_size, 2, len_tokens), dtype=int)\n",
        "y = np.zeros((ds_size, len_tokens), dtype=int)\n",
        "\n",
        "for e in range(num_iters*len_names):\n",
        "  for i in range(2):\n",
        "    X[2*e+i, 0, np.where(all_tokens == pet_names[e, i])[0][0]] = 1\n",
        "    X[2*e+i, 1, np.where(all_tokens == pet_names[e, i+1])[0][0]] = 1\n",
        "    y[2*e+i, np.where(all_tokens == pet_names[e, i+2])] = 1\n",
        "\n",
        "print(f\"Shape: X - {X.shape}, y - {y.shape}\")"
      ],
      "metadata": {
        "colab": {
          "base_uri": "https://localhost:8080/"
        },
        "id": "4i2ggvqUA399",
        "outputId": "c3055481-222e-4e50-f44e-ca7910f70665"
      },
      "execution_count": null,
      "outputs": [
        {
          "output_type": "stream",
          "name": "stdout",
          "text": [
            "Shape: X - (10000, 2, 1612), y - (10000, 1612)\n"
          ]
        }
      ]
    },
    {
      "cell_type": "code",
      "source": [
        "latent_dim = 64\n",
        "dropout_rate = 0.2\n",
        "\n",
        "model = Sequential()\n",
        "model.add(LSTM(latent_dim,\n",
        "               input_shape=(2, len_tokens),\n",
        "               recurrent_dropout=dropout_rate))\n",
        "model.add(Dense(units=len_tokens, activation='softmax'))\n",
        "\n",
        "optimizer = RMSprop(lr=0.01)\n",
        "model.compile(loss='categorical_crossentropy', optimizer=optimizer)\n",
        "\n",
        "model.summary()"
      ],
      "metadata": {
        "colab": {
          "base_uri": "https://localhost:8080/"
        },
        "id": "nDyFhk5eHLCv",
        "outputId": "2d20e390-030b-466a-8dcd-16e8e2ebcaf0"
      },
      "execution_count": null,
      "outputs": [
        {
          "output_type": "stream",
          "name": "stderr",
          "text": [
            "WARNING:absl:`lr` is deprecated, please use `learning_rate` instead, or use the legacy optimizer, e.g.,tf.keras.optimizers.legacy.RMSprop.\n"
          ]
        },
        {
          "output_type": "stream",
          "name": "stdout",
          "text": [
            "Model: \"sequential\"\n",
            "_________________________________________________________________\n",
            " Layer (type)                Output Shape              Param #   \n",
            "=================================================================\n",
            " lstm (LSTM)                 (None, 64)                429312    \n",
            "                                                                 \n",
            " dense (Dense)               (None, 1612)              104780    \n",
            "                                                                 \n",
            "=================================================================\n",
            "Total params: 534,092\n",
            "Trainable params: 534,092\n",
            "Non-trainable params: 0\n",
            "_________________________________________________________________\n"
          ]
        }
      ]
    },
    {
      "cell_type": "code",
      "source": [
        "epochs = 50\n",
        "batch_size = 32\n",
        "verbosity = 1\n",
        "\n",
        "start = time.time()\n",
        "print('Start training for {} epochs'.format(epochs))\n",
        "history = model.fit(X, y, epochs=epochs, batch_size=batch_size, verbose=verbosity)\n",
        "end = time.time()\n",
        "print('Finished training - time elapsed:', (end - start)/60, 'min')"
      ],
      "metadata": {
        "colab": {
          "base_uri": "https://localhost:8080/"
        },
        "id": "n1RWrS3KH9jY",
        "outputId": "227f061c-a223-405d-c0fa-406a1da7dc98"
      },
      "execution_count": null,
      "outputs": [
        {
          "output_type": "stream",
          "name": "stdout",
          "text": [
            "Start training for 50 epochs\n",
            "Epoch 1/50\n",
            "313/313 [==============================] - 9s 19ms/step - loss: 7.4134\n",
            "Epoch 2/50\n",
            "313/313 [==============================] - 5s 15ms/step - loss: 6.6587\n",
            "Epoch 3/50\n",
            "313/313 [==============================] - 5s 15ms/step - loss: 6.4417\n",
            "Epoch 4/50\n",
            "313/313 [==============================] - 6s 19ms/step - loss: 6.2335\n",
            "Epoch 5/50\n",
            "313/313 [==============================] - 5s 15ms/step - loss: 6.1981\n",
            "Epoch 6/50\n",
            "313/313 [==============================] - 6s 19ms/step - loss: 6.1943\n",
            "Epoch 7/50\n",
            "313/313 [==============================] - 5s 15ms/step - loss: 6.1950\n",
            "Epoch 8/50\n",
            "313/313 [==============================] - 5s 15ms/step - loss: 6.2112\n",
            "Epoch 9/50\n",
            "313/313 [==============================] - 6s 19ms/step - loss: 6.2107\n",
            "Epoch 10/50\n",
            "313/313 [==============================] - 5s 15ms/step - loss: 6.1881\n",
            "Epoch 11/50\n",
            "313/313 [==============================] - 6s 19ms/step - loss: 6.1504\n",
            "Epoch 12/50\n",
            "313/313 [==============================] - 5s 16ms/step - loss: 6.1256\n",
            "Epoch 13/50\n",
            "313/313 [==============================] - 5s 17ms/step - loss: 6.0910\n",
            "Epoch 14/50\n",
            "313/313 [==============================] - 6s 18ms/step - loss: 6.0635\n",
            "Epoch 15/50\n",
            "313/313 [==============================] - 5s 15ms/step - loss: 6.0524\n",
            "Epoch 16/50\n",
            "313/313 [==============================] - 6s 19ms/step - loss: 6.0406\n",
            "Epoch 17/50\n",
            "313/313 [==============================] - 5s 16ms/step - loss: 6.0166\n",
            "Epoch 18/50\n",
            "313/313 [==============================] - 6s 19ms/step - loss: 5.9892\n",
            "Epoch 19/50\n",
            "313/313 [==============================] - 5s 17ms/step - loss: 5.9648\n",
            "Epoch 20/50\n",
            "313/313 [==============================] - 5s 16ms/step - loss: 5.9505\n",
            "Epoch 21/50\n",
            "313/313 [==============================] - 6s 19ms/step - loss: 5.9318\n",
            "Epoch 22/50\n",
            "313/313 [==============================] - 5s 15ms/step - loss: 5.9181\n",
            "Epoch 23/50\n",
            "313/313 [==============================] - 6s 19ms/step - loss: 5.8950\n",
            "Epoch 24/50\n",
            "313/313 [==============================] - 5s 16ms/step - loss: 5.8778\n",
            "Epoch 25/50\n",
            "313/313 [==============================] - 5s 17ms/step - loss: 5.8569\n",
            "Epoch 26/50\n",
            "313/313 [==============================] - 6s 19ms/step - loss: 5.8376\n",
            "Epoch 27/50\n",
            "313/313 [==============================] - 5s 16ms/step - loss: 5.8118\n",
            "Epoch 28/50\n",
            "313/313 [==============================] - 6s 20ms/step - loss: 5.7867\n",
            "Epoch 29/50\n",
            "313/313 [==============================] - 5s 15ms/step - loss: 5.7649\n",
            "Epoch 30/50\n",
            "313/313 [==============================] - 6s 19ms/step - loss: 5.7329\n",
            "Epoch 31/50\n",
            "313/313 [==============================] - 5s 16ms/step - loss: 5.7020\n",
            "Epoch 32/50\n",
            "313/313 [==============================] - 5s 16ms/step - loss: 5.6679\n",
            "Epoch 33/50\n",
            "313/313 [==============================] - 6s 19ms/step - loss: 5.6326\n",
            "Epoch 34/50\n",
            "313/313 [==============================] - 5s 16ms/step - loss: 5.5969\n",
            "Epoch 35/50\n",
            "313/313 [==============================] - 6s 20ms/step - loss: 5.5581\n",
            "Epoch 36/50\n",
            "313/313 [==============================] - 5s 16ms/step - loss: 5.5230\n",
            "Epoch 37/50\n",
            "313/313 [==============================] - 6s 20ms/step - loss: 5.4814\n",
            "Epoch 38/50\n",
            "313/313 [==============================] - 5s 17ms/step - loss: 5.4419\n",
            "Epoch 39/50\n",
            "313/313 [==============================] - 5s 16ms/step - loss: 5.4049\n",
            "Epoch 40/50\n",
            "313/313 [==============================] - 6s 20ms/step - loss: 5.3649\n",
            "Epoch 41/50\n",
            "313/313 [==============================] - 5s 16ms/step - loss: 5.3276\n",
            "Epoch 42/50\n",
            "313/313 [==============================] - 6s 20ms/step - loss: 5.2912\n",
            "Epoch 43/50\n",
            "313/313 [==============================] - 5s 17ms/step - loss: 5.2560\n",
            "Epoch 44/50\n",
            "313/313 [==============================] - 6s 20ms/step - loss: 5.2230\n",
            "Epoch 45/50\n",
            "313/313 [==============================] - 5s 17ms/step - loss: 5.1899\n",
            "Epoch 46/50\n",
            "313/313 [==============================] - 5s 17ms/step - loss: 5.1525\n",
            "Epoch 47/50\n",
            "313/313 [==============================] - 6s 20ms/step - loss: 5.1116\n",
            "Epoch 48/50\n",
            "313/313 [==============================] - 5s 17ms/step - loss: 5.0766\n",
            "Epoch 49/50\n",
            "313/313 [==============================] - 6s 20ms/step - loss: 5.0427\n",
            "Epoch 50/50\n",
            "313/313 [==============================] - 5s 17ms/step - loss: 5.0153\n",
            "Finished training - time elapsed: 4.607376027107239 min\n"
          ]
        }
      ]
    },
    {
      "cell_type": "code",
      "source": [
        "model_path = os.path.realpath('./pet_name_generator.h5')\n",
        "\n",
        "print('Storing model at:', model_path)\n",
        "model.save(model_path)"
      ],
      "metadata": {
        "colab": {
          "base_uri": "https://localhost:8080/"
        },
        "id": "JE6N6KPlJskE",
        "outputId": "5a5b4d28-4d24-45e1-9538-139f9d7f184a"
      },
      "execution_count": null,
      "outputs": [
        {
          "output_type": "stream",
          "name": "stdout",
          "text": [
            "Storing model at: /content/pet_name_generator.h5\n"
          ]
        }
      ]
    },
    {
      "cell_type": "code",
      "source": [
        "def predict_name(type_pet_index, dict_tokens):\n",
        "  x = np.zeros((1, 2, len_tokens))\n",
        "  x[0,0, np.where(all_tokens == ' ')[0][0]] = 1\n",
        "  x[0,1, type_pet_index] = 1\n",
        "  \n",
        "  adv_i = model.predict(x, verbose=0)[0].argmax()\n",
        "\n",
        "  x = np.zeros((1, 2, len_tokens))\n",
        "  x[0,0, type_pet_index] = 1\n",
        "  x[0,0, adv_i] = 1\n",
        "  adj_i = model.predict(x, verbose=0)[0].argmax()\n",
        "\n",
        "  return dict_tokens[type_pet_index] \\\n",
        "          + ' ' + dict_tokens[adv_i] \\\n",
        "          + ' ' + dict_tokens[adj_i]"
      ],
      "metadata": {
        "id": "ZbME_w_WUCgX"
      },
      "execution_count": null,
      "outputs": []
    },
    {
      "cell_type": "code",
      "source": [
        "predict_name(339, all_tokens)"
      ],
      "metadata": {
        "colab": {
          "base_uri": "https://localhost:8080/",
          "height": 36
        },
        "id": "EzQD4BkOVg1o",
        "outputId": "7ed70276-cab7-4465-8493-d98537dd6f64"
      },
      "execution_count": null,
      "outputs": [
        {
          "output_type": "execute_result",
          "data": {
            "text/plain": [
              "'sorrel principalmente alegre'"
            ],
            "application/vnd.google.colaboratory.intrinsic+json": {
              "type": "string"
            }
          },
          "metadata": {},
          "execution_count": 134
        }
      ]
    },
    {
      "cell_type": "code",
      "source": [
        "name_to_predict = 'sorrel'\n",
        "x = np.zeros((1, 2, len_tokens))\n",
        "x[0,0, np.where(all_tokens == ' ')[0][0]] = 1\n",
        "x[0,1, np.where(all_tokens == name_to_predict)[0][0]] = 1\n",
        "x"
      ],
      "metadata": {
        "colab": {
          "base_uri": "https://localhost:8080/"
        },
        "id": "HOHeWqurKMt_",
        "outputId": "66618ac8-68c8-4514-ba69-6678858e5ec4"
      },
      "execution_count": null,
      "outputs": [
        {
          "output_type": "execute_result",
          "data": {
            "text/plain": [
              "array([[[0., 0., 0., ..., 0., 0., 1.],\n",
              "        [0., 0., 0., ..., 0., 0., 0.]]])"
            ]
          },
          "metadata": {},
          "execution_count": 111
        }
      ]
    },
    {
      "cell_type": "code",
      "source": [
        "probs = model.predict(x, verbose=0)[0]\n",
        "probs"
      ],
      "metadata": {
        "colab": {
          "base_uri": "https://localhost:8080/"
        },
        "id": "rhWzUpmVLP6G",
        "outputId": "8d9303ec-a54f-402e-d70f-ad4978d37eba"
      },
      "execution_count": null,
      "outputs": [
        {
          "output_type": "execute_result",
          "data": {
            "text/plain": [
              "array([4.1629752e-05, 3.6822134e-05, 3.5923214e-05, ..., 1.3200517e-04,\n",
              "       1.5904696e-04, 3.9887527e-05], dtype=float32)"
            ]
          },
          "metadata": {},
          "execution_count": 115
        }
      ]
    },
    {
      "cell_type": "code",
      "source": [
        "nam_i = np.where(all_tokens == name_to_predict)[0][0]\n",
        "adv_i = probs.argmax()\n",
        "nam_i, adv_i"
      ],
      "metadata": {
        "colab": {
          "base_uri": "https://localhost:8080/"
        },
        "id": "SlVSpDiOLbiE",
        "outputId": "450e7428-3af8-493a-82aa-2fb4c44ae501"
      },
      "execution_count": null,
      "outputs": [
        {
          "output_type": "execute_result",
          "data": {
            "text/plain": [
              "(339, 1161)"
            ]
          },
          "metadata": {},
          "execution_count": 125
        }
      ]
    },
    {
      "cell_type": "code",
      "source": [
        "x_1 = np.zeros((1, 2, len_tokens))\n",
        "x_1[0,0, nam_i] = 1\n",
        "x_1[0,1, adv_i] = 1\n",
        "x_1"
      ],
      "metadata": {
        "colab": {
          "base_uri": "https://localhost:8080/"
        },
        "id": "udrJXjh_Mz-i",
        "outputId": "4d3286ec-81df-4b88-8e86-6babbb780f2d"
      },
      "execution_count": null,
      "outputs": [
        {
          "output_type": "execute_result",
          "data": {
            "text/plain": [
              "array([[[0., 0., 0., ..., 0., 0., 0.],\n",
              "        [0., 0., 0., ..., 0., 0., 0.]]])"
            ]
          },
          "metadata": {},
          "execution_count": 126
        }
      ]
    },
    {
      "cell_type": "code",
      "source": [
        "probs2 = model.predict(x_1, verbose=0)[0]\n",
        "probs2"
      ],
      "metadata": {
        "colab": {
          "base_uri": "https://localhost:8080/"
        },
        "id": "IlMke87RM-a2",
        "outputId": "1c42ceb1-da81-4da9-a7c0-51b3cd2caf67"
      },
      "execution_count": null,
      "outputs": [
        {
          "output_type": "execute_result",
          "data": {
            "text/plain": [
              "array([0.00019806, 0.00019271, 0.00018467, ..., 0.00275461, 0.00319602,\n",
              "       0.00020492], dtype=float32)"
            ]
          },
          "metadata": {},
          "execution_count": 127
        }
      ]
    },
    {
      "cell_type": "code",
      "source": [
        "adj_i = probs2.argmax()\n",
        "adj_i"
      ],
      "metadata": {
        "colab": {
          "base_uri": "https://localhost:8080/"
        },
        "id": "vBhQY3kHNDgf",
        "outputId": "99e5fcfe-5780-4ea5-c085-543fa436ca15"
      },
      "execution_count": null,
      "outputs": [
        {
          "output_type": "execute_result",
          "data": {
            "text/plain": [
              "1234"
            ]
          },
          "metadata": {},
          "execution_count": 129
        }
      ]
    },
    {
      "cell_type": "code",
      "source": [
        "all_tokens[nam_i] + ' ' + all_tokens[adv_i] + ' ' + all_tokens[adj_i]"
      ],
      "metadata": {
        "colab": {
          "base_uri": "https://localhost:8080/",
          "height": 36
        },
        "id": "CdcB89ooNOu0",
        "outputId": "ee42b76c-84f8-4673-c0a9-463c54c6a094"
      },
      "execution_count": null,
      "outputs": [
        {
          "output_type": "execute_result",
          "data": {
            "text/plain": [
              "'sorrel principalmente alegre'"
            ],
            "application/vnd.google.colaboratory.intrinsic+json": {
              "type": "string"
            }
          },
          "metadata": {},
          "execution_count": 130
        }
      ]
    },
    {
      "cell_type": "markdown",
      "source": [
        "# Resnet101 + LSTM"
      ],
      "metadata": {
        "id": "7ElKY_iwVpzs"
      }
    },
    {
      "cell_type": "code",
      "source": [
        "from tensorflow.keras.applications import resnet\n",
        "from tensorflow.keras.preprocessing import image\n",
        "from torchvision import transforms\n",
        "from PIL import Image"
      ],
      "metadata": {
        "id": "bv0h5_3HVsg9"
      },
      "execution_count": null,
      "outputs": []
    },
    {
      "cell_type": "code",
      "source": [
        "model_resnet = resnet.ResNet101()"
      ],
      "metadata": {
        "colab": {
          "base_uri": "https://localhost:8080/"
        },
        "id": "QEguXB0ZXZVz",
        "outputId": "1ec98631-0d77-4c40-b9fd-fd9b27f234dc"
      },
      "execution_count": null,
      "outputs": [
        {
          "output_type": "stream",
          "name": "stdout",
          "text": [
            "Downloading data from https://storage.googleapis.com/tensorflow/keras-applications/resnet/resnet101_weights_tf_dim_ordering_tf_kernels.h5\n",
            "179648224/179648224 [==============================] - 1s 0us/step\n"
          ]
        }
      ]
    },
    {
      "cell_type": "code",
      "source": [
        "model_path = os.path.realpath('./resnet101.h5')\n",
        "\n",
        "print('Storing model at:', model_path)\n",
        "model.save(model_path)"
      ],
      "metadata": {
        "colab": {
          "base_uri": "https://localhost:8080/"
        },
        "id": "uGKXa_SJX6TM",
        "outputId": "e215e5ef-f67d-4441-9888-b683db6d98da"
      },
      "execution_count": null,
      "outputs": [
        {
          "output_type": "stream",
          "name": "stdout",
          "text": [
            "Storing model at: /content/resnet101.h5\n"
          ]
        }
      ]
    },
    {
      "cell_type": "code",
      "source": [
        "img = image.load_img('cebra.jpg', target_size=(224,224))\n",
        "img"
      ],
      "metadata": {
        "colab": {
          "base_uri": "https://localhost:8080/",
          "height": 241
        },
        "id": "ajEtCx1qYFgD",
        "outputId": "81045f43-4df1-46b8-ad71-b8e1a5ec70fd"
      },
      "execution_count": null,
      "outputs": [
        {
          "output_type": "execute_result",
          "data": {
            "text/plain": [
              "<PIL.Image.Image image mode=RGB size=224x224 at 0x7F4B20F5FA00>"
            ],
            "image/png": "[encoded data removed]"
          },
          "metadata": {},
          "execution_count": 180
        }
      ]
    },
    {
      "cell_type": "code",
      "source": [
        "img_array = image.img_to_array(img)\n",
        "img_prepro = resnet.preprocess_input(img_array)\n",
        "img_batch = np.expand_dims(img_prepro, axis=0)\n",
        "img_array.shape, img_prepro.shape, img_batch.shape"
      ],
      "metadata": {
        "colab": {
          "base_uri": "https://localhost:8080/"
        },
        "id": "fm0bO46qdr0Q",
        "outputId": "eb2e9595-8e8a-457f-940a-7e6679c33547"
      },
      "execution_count": null,
      "outputs": [
        {
          "output_type": "execute_result",
          "data": {
            "text/plain": [
              "((224, 224, 3), (224, 224, 3), (1, 224, 224, 3))"
            ]
          },
          "metadata": {},
          "execution_count": 181
        }
      ]
    },
    {
      "cell_type": "code",
      "source": [
        "predict_model_img = model_resnet.predict(img_batch)\n",
        "predict_model_img.shape"
      ],
      "metadata": {
        "colab": {
          "base_uri": "https://localhost:8080/"
        },
        "id": "iSwgILdyZ3co",
        "outputId": "d924d5fe-2b6f-45f5-aa7d-453e3c052e56"
      },
      "execution_count": null,
      "outputs": [
        {
          "output_type": "stream",
          "name": "stdout",
          "text": [
            "1/1 [==============================] - 0s 328ms/step\n"
          ]
        },
        {
          "output_type": "execute_result",
          "data": {
            "text/plain": [
              "(1, 1000)"
            ]
          },
          "metadata": {},
          "execution_count": 182
        }
      ]
    },
    {
      "cell_type": "code",
      "source": [
        "resnet.decode_predictions(predict_model_img)"
      ],
      "metadata": {
        "colab": {
          "base_uri": "https://localhost:8080/"
        },
        "id": "MpnopZeJg9kx",
        "outputId": "a17d710e-e4b4-4f9a-b6f1-16d643de0d83"
      },
      "execution_count": null,
      "outputs": [
        {
          "output_type": "execute_result",
          "data": {
            "text/plain": [
              "[[('n02391049', 'zebra', 0.9773695),\n",
              "  ('n02422106', 'hartebeest', 0.0071663302),\n",
              "  ('n02422699', 'impala', 0.0047944137),\n",
              "  ('n02423022', 'gazelle', 0.0041620913),\n",
              "  ('n01518878', 'ostrich', 0.0011940598)]]"
            ]
          },
          "metadata": {},
          "execution_count": 183
        }
      ]
    },
    {
      "cell_type": "code",
      "source": [
        "def predict_name_pet_from_img(path_img):\n",
        "  img = image.load_img(path_img, target_size=(224,224))\n",
        "  img_array = image.img_to_array(img)\n",
        "  img_prepro = resnet.preprocess_input(img_array)\n",
        "  img_batch = np.expand_dims(img_prepro, axis=0)\n",
        "\n",
        "  pred = model_resnet.predict(img_batch)\n",
        "  return predict_name(pred.argmax(), all_tokens)"
      ],
      "metadata": {
        "id": "f0EBZgLPi14_"
      },
      "execution_count": null,
      "outputs": []
    },
    {
      "cell_type": "code",
      "source": [
        "predict_name_pet_from_img('cebra.jpg')"
      ],
      "metadata": {
        "colab": {
          "base_uri": "https://localhost:8080/",
          "height": 55
        },
        "id": "l5fLQh31japk",
        "outputId": "4622eb9d-2c55-47e2-baec-b679090367a4"
      },
      "execution_count": null,
      "outputs": [
        {
          "output_type": "stream",
          "name": "stdout",
          "text": [
            "1/1 [==============================] - 0s 342ms/step\n"
          ]
        },
        {
          "output_type": "execute_result",
          "data": {
            "text/plain": [
              "'zebra socialmente seguro'"
            ],
            "application/vnd.google.colaboratory.intrinsic+json": {
              "type": "string"
            }
          },
          "metadata": {},
          "execution_count": 191
        }
      ]
    },
    {
      "cell_type": "code",
      "source": [
        "with open('all_tokens.npy', 'wb') as f:\n",
        "    np.save(f, all_tokens)"
      ],
      "metadata": {
        "id": "Qe5V5Q57lkAX"
      },
      "execution_count": null,
      "outputs": []
    },
    {
      "cell_type": "markdown",
      "source": [
        "# Model Complete"
      ],
      "metadata": {
        "id": "89BtLY8wkG8y"
      }
    },
    {
      "cell_type": "code",
      "source": [
        "from tensorflow.keras.applications import resnet\n",
        "from tensorflow.keras.preprocessing import image\n",
        "from tensorflow.keras.models import Sequential\n",
        "from tensorflow.keras.layers import Dense\n",
        "from tensorflow.keras.layers import LSTM\n",
        "from tensorflow.keras.optimizers import RMSprop\n",
        "import numpy as np\n",
        "import matplotlib.pyplot as plt"
      ],
      "metadata": {
        "id": "vM456wGjnjhu"
      },
      "execution_count": null,
      "outputs": []
    },
    {
      "cell_type": "markdown",
      "source": [
        "Carga de modelos"
      ],
      "metadata": {
        "id": "7lwduPpjkkyY"
      }
    },
    {
      "cell_type": "code",
      "source": [
        "with open('all_tokens.npy', 'rb') as f:\n",
        "    all_tokens = np.load(f, allow_pickle=True)\n",
        "all_tokens.shape"
      ],
      "metadata": {
        "colab": {
          "base_uri": "https://localhost:8080/"
        },
        "id": "Q3TZ9zaWmeYT",
        "outputId": "132a3efd-0500-45ac-9f88-04b7ff6f852a"
      },
      "execution_count": null,
      "outputs": [
        {
          "output_type": "execute_result",
          "data": {
            "text/plain": [
              "(1612,)"
            ]
          },
          "metadata": {},
          "execution_count": 202
        }
      ]
    },
    {
      "cell_type": "code",
      "source": [
        "latent_dim = 64\n",
        "dropout_rate = 0.2\n",
        "len_tokens = all_tokens.shape[0]\n",
        "\n",
        "pet_generator = Sequential()\n",
        "pet_generator.add(LSTM(latent_dim,\n",
        "               input_shape=(2, len_tokens),\n",
        "               recurrent_dropout=dropout_rate))\n",
        "pet_generator.add(Dense(units=len_tokens, activation='softmax'))\n",
        "\n",
        "optimizer = RMSprop(learning_rate=0.01)\n",
        "pet_generator.compile(loss='categorical_crossentropy', optimizer=optimizer)\n",
        "\n",
        "model_path = os.path.realpath('./pet_name_generator.h5')\n",
        "pet_generator.load_weights(model_path)\n",
        "model_resnet = resnet.ResNet101()"
      ],
      "metadata": {
        "id": "PlN2neRgkIlk"
      },
      "execution_count": null,
      "outputs": []
    },
    {
      "cell_type": "code",
      "source": [
        "def predict_name(type_pet_index, dict_tokens):\n",
        "  x = np.zeros((1, 2, dict_tokens.shape[0]))\n",
        "  x[0,0, np.where(dict_tokens == ' ')[0][0]] = 1\n",
        "  x[0,1, type_pet_index] = 1\n",
        "  \n",
        "  adv_i = pet_generator.predict(x, verbose=0)[0].argmax()\n",
        "\n",
        "  x = np.zeros((1, 2, len_tokens))\n",
        "  x[0,0, type_pet_index] = 1\n",
        "  x[0,0, adv_i] = 1\n",
        "  adj_i = pet_generator.predict(x, verbose=0)[0].argmax()\n",
        "\n",
        "  return dict_tokens[type_pet_index] \\\n",
        "          + ' ' + dict_tokens[adv_i] \\\n",
        "          + ' ' + dict_tokens[adj_i]"
      ],
      "metadata": {
        "id": "_Vb9EJPynPsH"
      },
      "execution_count": null,
      "outputs": []
    },
    {
      "cell_type": "code",
      "source": [
        "def predict_name_pet_from_img(path_img):\n",
        "  img = image.load_img(path_img, target_size=(224,224))\n",
        "  plt.imshow(img)\n",
        "  img_array = image.img_to_array(img)\n",
        "  img_prepro = resnet.preprocess_input(img_array)\n",
        "  img_batch = np.expand_dims(img_prepro, axis=0)\n",
        "\n",
        "  pred = model_resnet.predict(img_batch)\n",
        "  return predict_name(pred.argmax(), all_tokens)"
      ],
      "metadata": {
        "id": "W2rPmuLCoSrD"
      },
      "execution_count": null,
      "outputs": []
    },
    {
      "cell_type": "code",
      "source": [
        "predict_name_pet_from_img('bobby.jpg')"
      ],
      "metadata": {
        "colab": {
          "base_uri": "https://localhost:8080/",
          "height": 363
        },
        "id": "AUn23jg-o69-",
        "outputId": "242de2f8-039d-453a-ba2c-fb416af6c1c2"
      },
      "execution_count": null,
      "outputs": [
        {
          "output_type": "stream",
          "name": "stderr",
          "text": [
            "WARNING:tensorflow:5 out of the last 14 calls to <function Model.make_predict_function.<locals>.predict_function at 0x7f4b20e90310> triggered tf.function retracing. Tracing is expensive and the excessive number of tracings could be due to (1) creating @tf.function repeatedly in a loop, (2) passing tensors with different shapes, (3) passing Python objects instead of tensors. For (1), please define your @tf.function outside of the loop. For (2), @tf.function has reduce_retracing=True option that can avoid unnecessary retracing. For (3), please refer to https://www.tensorflow.org/guide/function#controlling_retracing and https://www.tensorflow.org/api_docs/python/tf/function for  more details.\n"
          ]
        },
        {
          "output_type": "stream",
          "name": "stdout",
          "text": [
            "1/1 [==============================] - 3s 3s/step\n"
          ]
        },
        {
          "output_type": "stream",
          "name": "stderr",
          "text": [
            "WARNING:tensorflow:6 out of the last 15 calls to <function Model.make_predict_function.<locals>.predict_function at 0x7f4b20d8ff70> triggered tf.function retracing. Tracing is expensive and the excessive number of tracings could be due to (1) creating @tf.function repeatedly in a loop, (2) passing tensors with different shapes, (3) passing Python objects instead of tensors. For (1), please define your @tf.function outside of the loop. For (2), @tf.function has reduce_retracing=True option that can avoid unnecessary retracing. For (3), please refer to https://www.tensorflow.org/guide/function#controlling_retracing and https://www.tensorflow.org/api_docs/python/tf/function for  more details.\n"
          ]
        },
        {
          "output_type": "execute_result",
          "data": {
            "text/plain": [
              "'golden retriever exactamente alegre'"
            ],
            "application/vnd.google.colaboratory.intrinsic+json": {
              "type": "string"
            }
          },
          "metadata": {},
          "execution_count": 229
        },
        {
          "output_type": "display_data",
          "data": {
            "text/plain": [
              "<Figure size 432x288 with 1 Axes>"
            ],
            "image/png": "[encoded data removed]"
          },
          "metadata": {
            "needs_background": "light"
          }
        }
      ]
    }
  ]
}